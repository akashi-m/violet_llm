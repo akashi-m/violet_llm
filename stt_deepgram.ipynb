{
 "cells": [
  {
   "cell_type": "code",
   "id": "initial_id",
   "metadata": {
    "collapsed": true,
    "ExecuteTime": {
     "end_time": "2025-02-08T13:58:28.949234Z",
     "start_time": "2025-02-08T13:58:28.770399Z"
    }
   },
   "source": [
    "import asyncio\n",
    "import subprocess\n",
    "import os\n",
    "from dotenv import load_dotenv\n",
    "from deepgram import DeepgramClient\n",
    "\n",
    "load_dotenv()\n",
    "\n",
    "SPEAK_TEXT = {\n",
    "    \"text\": \"Hello world!\",\n",
    "    \"speed\": 1.2,\n",
    "    \"pitch\": 1.1,\n",
    "}\n",
    "filename = \"data/audio_output/test.mp3\"\n",
    "\n",
    "def generate_and_play():\n",
    "    async def async_generate():\n",
    "        deepgram = DeepgramClient(os.getenv(\"DEEPGRAM_API_KEY\"))\n",
    "        return await deepgram.speak.asyncrest.v(\"1\").save(filename, SPEAK_TEXT)\n",
    "\n",
    "    # Получаем текущий loop или создаем новый\n",
    "    try:\n",
    "        loop = asyncio.get_event_loop()\n",
    "    except RuntimeError:\n",
    "        loop = asyncio.new_event_loop()\n",
    "        asyncio.set_event_loop(loop)\n",
    "\n",
    "    # Выполняем генерацию\n",
    "    response = loop.run_until_complete(async_generate())\n",
    "    print(response.to_json(indent=4))\n",
    "\n",
    "    # Воспроизводим аудио\n",
    "    subprocess.run(['afplay', filename])\n",
    "\n",
    "# Просто вызываем функцию\n",
    "generate_and_play()"
   ],
   "outputs": [
    {
     "ename": "RuntimeError",
     "evalue": "This event loop is already running",
     "output_type": "error",
     "traceback": [
      "\u001B[0;31m---------------------------------------------------------------------------\u001B[0m",
      "\u001B[0;31mRuntimeError\u001B[0m                              Traceback (most recent call last)",
      "Cell \u001B[0;32mIn[1], line 36\u001B[0m\n\u001B[1;32m     33\u001B[0m     subprocess\u001B[38;5;241m.\u001B[39mrun([\u001B[38;5;124m'\u001B[39m\u001B[38;5;124mafplay\u001B[39m\u001B[38;5;124m'\u001B[39m, filename])\n\u001B[1;32m     35\u001B[0m \u001B[38;5;66;03m# Просто вызываем функцию\u001B[39;00m\n\u001B[0;32m---> 36\u001B[0m \u001B[43mgenerate_and_play\u001B[49m\u001B[43m(\u001B[49m\u001B[43m)\u001B[49m\n",
      "Cell \u001B[0;32mIn[1], line 29\u001B[0m, in \u001B[0;36mgenerate_and_play\u001B[0;34m()\u001B[0m\n\u001B[1;32m     26\u001B[0m     asyncio\u001B[38;5;241m.\u001B[39mset_event_loop(loop)\n\u001B[1;32m     28\u001B[0m \u001B[38;5;66;03m# Выполняем генерацию\u001B[39;00m\n\u001B[0;32m---> 29\u001B[0m response \u001B[38;5;241m=\u001B[39m \u001B[43mloop\u001B[49m\u001B[38;5;241;43m.\u001B[39;49m\u001B[43mrun_until_complete\u001B[49m\u001B[43m(\u001B[49m\u001B[43masync_generate\u001B[49m\u001B[43m(\u001B[49m\u001B[43m)\u001B[49m\u001B[43m)\u001B[49m\n\u001B[1;32m     30\u001B[0m \u001B[38;5;28mprint\u001B[39m(response\u001B[38;5;241m.\u001B[39mto_json(indent\u001B[38;5;241m=\u001B[39m\u001B[38;5;241m4\u001B[39m))\n\u001B[1;32m     32\u001B[0m \u001B[38;5;66;03m# Воспроизводим аудио\u001B[39;00m\n",
      "File \u001B[0;32m/Library/Frameworks/Python.framework/Versions/3.12/lib/python3.12/asyncio/base_events.py:663\u001B[0m, in \u001B[0;36mBaseEventLoop.run_until_complete\u001B[0;34m(self, future)\u001B[0m\n\u001B[1;32m    652\u001B[0m \u001B[38;5;250m\u001B[39m\u001B[38;5;124;03m\"\"\"Run until the Future is done.\u001B[39;00m\n\u001B[1;32m    653\u001B[0m \n\u001B[1;32m    654\u001B[0m \u001B[38;5;124;03mIf the argument is a coroutine, it is wrapped in a Task.\u001B[39;00m\n\u001B[0;32m   (...)\u001B[0m\n\u001B[1;32m    660\u001B[0m \u001B[38;5;124;03mReturn the Future's result, or raise its exception.\u001B[39;00m\n\u001B[1;32m    661\u001B[0m \u001B[38;5;124;03m\"\"\"\u001B[39;00m\n\u001B[1;32m    662\u001B[0m \u001B[38;5;28mself\u001B[39m\u001B[38;5;241m.\u001B[39m_check_closed()\n\u001B[0;32m--> 663\u001B[0m \u001B[38;5;28;43mself\u001B[39;49m\u001B[38;5;241;43m.\u001B[39;49m\u001B[43m_check_running\u001B[49m\u001B[43m(\u001B[49m\u001B[43m)\u001B[49m\n\u001B[1;32m    665\u001B[0m new_task \u001B[38;5;241m=\u001B[39m \u001B[38;5;129;01mnot\u001B[39;00m futures\u001B[38;5;241m.\u001B[39misfuture(future)\n\u001B[1;32m    666\u001B[0m future \u001B[38;5;241m=\u001B[39m tasks\u001B[38;5;241m.\u001B[39mensure_future(future, loop\u001B[38;5;241m=\u001B[39m\u001B[38;5;28mself\u001B[39m)\n",
      "File \u001B[0;32m/Library/Frameworks/Python.framework/Versions/3.12/lib/python3.12/asyncio/base_events.py:622\u001B[0m, in \u001B[0;36mBaseEventLoop._check_running\u001B[0;34m(self)\u001B[0m\n\u001B[1;32m    620\u001B[0m \u001B[38;5;28;01mdef\u001B[39;00m\u001B[38;5;250m \u001B[39m\u001B[38;5;21m_check_running\u001B[39m(\u001B[38;5;28mself\u001B[39m):\n\u001B[1;32m    621\u001B[0m     \u001B[38;5;28;01mif\u001B[39;00m \u001B[38;5;28mself\u001B[39m\u001B[38;5;241m.\u001B[39mis_running():\n\u001B[0;32m--> 622\u001B[0m         \u001B[38;5;28;01mraise\u001B[39;00m \u001B[38;5;167;01mRuntimeError\u001B[39;00m(\u001B[38;5;124m'\u001B[39m\u001B[38;5;124mThis event loop is already running\u001B[39m\u001B[38;5;124m'\u001B[39m)\n\u001B[1;32m    623\u001B[0m     \u001B[38;5;28;01mif\u001B[39;00m events\u001B[38;5;241m.\u001B[39m_get_running_loop() \u001B[38;5;129;01mis\u001B[39;00m \u001B[38;5;129;01mnot\u001B[39;00m \u001B[38;5;28;01mNone\u001B[39;00m:\n\u001B[1;32m    624\u001B[0m         \u001B[38;5;28;01mraise\u001B[39;00m \u001B[38;5;167;01mRuntimeError\u001B[39;00m(\n\u001B[1;32m    625\u001B[0m             \u001B[38;5;124m'\u001B[39m\u001B[38;5;124mCannot run the event loop while another loop is running\u001B[39m\u001B[38;5;124m'\u001B[39m)\n",
      "\u001B[0;31mRuntimeError\u001B[0m: This event loop is already running"
     ]
    }
   ],
   "execution_count": 1
  },
  {
   "metadata": {},
   "cell_type": "code",
   "outputs": [],
   "execution_count": null,
   "source": "",
   "id": "f78ccccceda129fe"
  }
 ],
 "metadata": {
  "kernelspec": {
   "display_name": "Python 3",
   "language": "python",
   "name": "python3"
  },
  "language_info": {
   "codemirror_mode": {
    "name": "ipython",
    "version": 2
   },
   "file_extension": ".py",
   "mimetype": "text/x-python",
   "name": "python",
   "nbconvert_exporter": "python",
   "pygments_lexer": "ipython2",
   "version": "2.7.6"
  }
 },
 "nbformat": 4,
 "nbformat_minor": 5
}
